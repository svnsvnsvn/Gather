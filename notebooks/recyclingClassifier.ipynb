{
 "cells": [
  {
   "cell_type": "markdown",
   "metadata": {},
   "source": [
    "\n",
    "### **Goal:**\n",
    "To build a hierarchical image classification model using MobileNetV2 for level_1 and level_2 classification tasks.\n",
    "\n",
    "---\n",
    "\n",
    "### **Steps Overview:**\n",
    "1. **Load and Prepare the Dataset**\n",
    "2. **Build the MobileNetV2 Model**\n",
    "3. **Compile and Train the Model**\n",
    "4. **Evaluate the Model**\n",
    "5. **Visualize Results**\n",
    "\n",
    "---"
   ]
  },
  {
   "cell_type": "markdown",
   "metadata": {},
   "source": [
    "# 1. Load and Prepare the dataset \n"
   ]
  },
  {
   "cell_type": "code",
   "execution_count": null,
   "metadata": {},
   "outputs": [],
   "source": [
    "import tensorflow as tf\n",
    "import numpy as np\n",
    "import matplotlib.pyplot as plt\n",
    "from tensorflow.keras.preprocessing.image import ImageDataGenerator "
   ]
  }
 ],
 "metadata": {
  "kernelspec": {
   "display_name": "binbuddy",
   "language": "python",
   "name": "binbuddy"
  }
 },
 "nbformat": 4,
 "nbformat_minor": 2
}
