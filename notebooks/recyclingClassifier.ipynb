{
 "cells": [
  {
   "cell_type": "code",
   "execution_count": null,
   "metadata": {},
   "outputs": [],
   "source": []
  }
 ],
 "metadata": {
  "kernelspec": {
   "display_name": "binbuddy",
   "language": "python",
   "name": "binbuddy"
  }
 },
 "nbformat": 4,
 "nbformat_minor": 2
}
